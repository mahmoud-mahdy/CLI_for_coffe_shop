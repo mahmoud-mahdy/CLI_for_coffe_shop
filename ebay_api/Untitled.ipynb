{
 "cells": [
  {
   "cell_type": "code",
   "execution_count": 1,
   "id": "bdda46dd-50c9-4b62-b53f-c43f8ea54b55",
   "metadata": {},
   "outputs": [],
   "source": [
    "import pandas as pd"
   ]
  },
  {
   "cell_type": "code",
   "execution_count": 2,
   "id": "cebbc0e6-799a-4fc5-abeb-76c9df8bba64",
   "metadata": {},
   "outputs": [],
   "source": [
    "df = pd.read_csv('2024-06-01_iphone 14_list.csv')"
   ]
  },
  {
   "cell_type": "code",
   "execution_count": 3,
   "id": "a2f80a73-ad0d-4492-896b-efedbd580d03",
   "metadata": {},
   "outputs": [
    {
     "data": {
      "text/plain": [
       "(9200, 11)"
      ]
     },
     "execution_count": 3,
     "metadata": {},
     "output_type": "execute_result"
    }
   ],
   "source": [
    "df.shape"
   ]
  },
  {
   "cell_type": "code",
   "execution_count": 4,
   "id": "d3137181-90a5-4aba-9fb2-55db5f7937ea",
   "metadata": {},
   "outputs": [],
   "source": [
    "duplicates = df.duplicated()"
   ]
  },
  {
   "cell_type": "code",
   "execution_count": 5,
   "id": "233c0168-459a-423a-931d-20093793d982",
   "metadata": {},
   "outputs": [
    {
     "data": {
      "text/plain": [
       "0       False\n",
       "1       False\n",
       "2       False\n",
       "3       False\n",
       "4       False\n",
       "        ...  \n",
       "9195    False\n",
       "9196    False\n",
       "9197    False\n",
       "9198    False\n",
       "9199    False\n",
       "Length: 9200, dtype: bool"
      ]
     },
     "execution_count": 5,
     "metadata": {},
     "output_type": "execute_result"
    }
   ],
   "source": [
    "duplicates"
   ]
  },
  {
   "cell_type": "code",
   "execution_count": 19,
   "id": "ec333ce8-0f44-4bd6-820f-80901bc5bae2",
   "metadata": {},
   "outputs": [
    {
     "name": "stdout",
     "output_type": "stream",
     "text": [
      "                            itemId  \\\n",
      "204   v1|224192732622|522996346424   \n",
      "404   v1|355617581437|624734865962   \n",
      "405   v1|334131852589|543138568934   \n",
      "604   v1|134733068728|434241800838   \n",
      "1007  v1|134615260823|434136437718   \n",
      "...                            ...   \n",
      "8642             v1|386863190093|0   \n",
      "8644  v1|184844657935|693673331224   \n",
      "8645  v1|165599637497|465122693443   \n",
      "8646  v1|305451151974|604369061394   \n",
      "8647             v1|186451977573|0   \n",
      "\n",
      "                                                  title   price  \\\n",
      "204   For iPhone 15 14 13 12 Pro Max Slim Shockproof...    5.99   \n",
      "404   Premium Braided USB Charging Charger Cable for...    4.99   \n",
      "405   Apple iPhone 8 - 64GB, 256GB All Colours - Unl...   99.99   \n",
      "604   Luxury Leather Flip Case For iPhone 15 14 Pro ...    6.99   \n",
      "1007  2X 9D Tempered Glass Screen Protector iPhone 1...    2.79   \n",
      "...                                                 ...     ...   \n",
      "8642  Apple iPhone 14 Pro Max Space Black 128G Unloc...  750.00   \n",
      "8644  For Apple iPhone 14, 13, 12, 11, X Soft Silico...    6.75   \n",
      "8645  Wholesale Job Lot Bulk Tempered Glass Screen P...   22.49   \n",
      "8646  SCOTLAND NATIONAL FOOTBALL TEAM 2024/25 KITS B...   17.95   \n",
      "8647  BRAND NEW SEALED BLACK APPLE IPHONE 12 64GB - ...  400.00   \n",
      "\n",
      "      shipping cost location      seller  seller feedback Percentage  \\\n",
      "204            0.00    B7***    BUSINESS                        98.6   \n",
      "404            0.00  YO14***    BUSINESS                        99.0   \n",
      "405            0.00   SW3***    BUSINESS                        98.7   \n",
      "604            0.00    M8***    BUSINESS                        99.7   \n",
      "1007           0.00   B69***    BUSINESS                        98.3   \n",
      "...             ...      ...         ...                         ...   \n",
      "8642           0.00   TR7***    BUSINESS                         0.0   \n",
      "8644           0.00   HA8***    BUSINESS                        98.7   \n",
      "8645           5.99   M33***    BUSINESS                        98.5   \n",
      "8646           0.00   FY4***    BUSINESS                        98.6   \n",
      "8647           0.00  BB10***  INDIVIDUAL                       100.0   \n",
      "\n",
      "      seller feedback Score    seller.1                condition  \\\n",
      "204                  196368    BUSINESS                      New   \n",
      "404                    1072    BUSINESS                      New   \n",
      "405                  119642    BUSINESS  Very Good - Refurbished   \n",
      "604                    7641    BUSINESS                      New   \n",
      "1007                  18204    BUSINESS                      New   \n",
      "...                     ...         ...                      ...   \n",
      "8642                      0    BUSINESS                     Used   \n",
      "8644                 146006    BUSINESS                      New   \n",
      "8645                  44495    BUSINESS                      New   \n",
      "8646                1833293    BUSINESS                      New   \n",
      "8647                    701  INDIVIDUAL                      New   \n",
      "\n",
      "                                                    URL  \n",
      "204   https://www.ebay.co.uk/itm/224192732622?hash=i...  \n",
      "404   https://www.ebay.co.uk/itm/355617581437?hash=i...  \n",
      "405   https://www.ebay.co.uk/itm/334131852589?hash=i...  \n",
      "604   https://www.ebay.co.uk/itm/134733068728?hash=i...  \n",
      "1007  https://www.ebay.co.uk/itm/134615260823?hash=i...  \n",
      "...                                                 ...  \n",
      "8642  https://www.ebay.co.uk/itm/386863190093?hash=i...  \n",
      "8644  https://www.ebay.co.uk/itm/184844657935?hash=i...  \n",
      "8645  https://www.ebay.co.uk/itm/165599637497?hash=i...  \n",
      "8646  https://www.ebay.co.uk/itm/305451151974?hash=i...  \n",
      "8647  https://www.ebay.co.uk/itm/186451977573?hash=i...  \n",
      "\n",
      "[79 rows x 11 columns]\n"
     ]
    }
   ],
   "source": [
    "print(df[duplicates])"
   ]
  },
  {
   "cell_type": "code",
   "execution_count": null,
   "id": "f786ae5a-a888-4a65-85dc-39bccd089e56",
   "metadata": {},
   "outputs": [],
   "source": []
  }
 ],
 "metadata": {
  "kernelspec": {
   "display_name": "Python 3 (ipykernel)",
   "language": "python",
   "name": "python3"
  },
  "language_info": {
   "codemirror_mode": {
    "name": "ipython",
    "version": 3
   },
   "file_extension": ".py",
   "mimetype": "text/x-python",
   "name": "python",
   "nbconvert_exporter": "python",
   "pygments_lexer": "ipython3",
   "version": "3.11.5"
  }
 },
 "nbformat": 4,
 "nbformat_minor": 5
}
